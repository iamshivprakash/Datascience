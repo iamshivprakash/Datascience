{
 "cells": [
  {
   "cell_type": "markdown",
   "metadata": {},
   "source": [
    "# Descriptive Statistics\n",
    "\n",
    "<ul>\n",
    "    <li>Visualization Techniques</li>\n",
    "    <li>Measure of Central Tendency</li>\n",
    "    <li><b>Measure of Spread</li>\n",
    "    <li>Covariance and Correlation</li>\n",
    "</ul>"
   ]
  },
  {
   "cell_type": "markdown",
   "metadata": {},
   "source": [
    "# Measure of Spread of Data"
   ]
  },
  {
   "cell_type": "code",
   "execution_count": 1,
   "metadata": {},
   "outputs": [],
   "source": [
    "import numpy as np\n",
    "import pandas as pd\n",
    "import matplotlib.pyplot as plt\n",
    "import seaborn as sns"
   ]
  },
  {
   "cell_type": "code",
   "execution_count": 2,
   "metadata": {},
   "outputs": [
    {
     "data": {
      "text/html": [
       "<div>\n",
       "<style scoped>\n",
       "    .dataframe tbody tr th:only-of-type {\n",
       "        vertical-align: middle;\n",
       "    }\n",
       "\n",
       "    .dataframe tbody tr th {\n",
       "        vertical-align: top;\n",
       "    }\n",
       "\n",
       "    .dataframe thead th {\n",
       "        text-align: right;\n",
       "    }\n",
       "</style>\n",
       "<table border=\"1\" class=\"dataframe\">\n",
       "  <thead>\n",
       "    <tr style=\"text-align: right;\">\n",
       "      <th></th>\n",
       "      <th>sepal_length</th>\n",
       "      <th>sepal_width</th>\n",
       "      <th>petal_length</th>\n",
       "      <th>petal_width</th>\n",
       "      <th>species</th>\n",
       "    </tr>\n",
       "  </thead>\n",
       "  <tbody>\n",
       "    <tr>\n",
       "      <th>0</th>\n",
       "      <td>5.1</td>\n",
       "      <td>3.5</td>\n",
       "      <td>1.4</td>\n",
       "      <td>0.2</td>\n",
       "      <td>setosa</td>\n",
       "    </tr>\n",
       "    <tr>\n",
       "      <th>1</th>\n",
       "      <td>4.9</td>\n",
       "      <td>3.0</td>\n",
       "      <td>1.4</td>\n",
       "      <td>0.2</td>\n",
       "      <td>setosa</td>\n",
       "    </tr>\n",
       "    <tr>\n",
       "      <th>2</th>\n",
       "      <td>4.7</td>\n",
       "      <td>3.2</td>\n",
       "      <td>1.3</td>\n",
       "      <td>0.2</td>\n",
       "      <td>setosa</td>\n",
       "    </tr>\n",
       "    <tr>\n",
       "      <th>3</th>\n",
       "      <td>4.6</td>\n",
       "      <td>3.1</td>\n",
       "      <td>1.5</td>\n",
       "      <td>0.2</td>\n",
       "      <td>setosa</td>\n",
       "    </tr>\n",
       "    <tr>\n",
       "      <th>4</th>\n",
       "      <td>5.0</td>\n",
       "      <td>3.6</td>\n",
       "      <td>1.4</td>\n",
       "      <td>0.2</td>\n",
       "      <td>setosa</td>\n",
       "    </tr>\n",
       "  </tbody>\n",
       "</table>\n",
       "</div>"
      ],
      "text/plain": [
       "   sepal_length  sepal_width  petal_length  petal_width species\n",
       "0           5.1          3.5           1.4          0.2  setosa\n",
       "1           4.9          3.0           1.4          0.2  setosa\n",
       "2           4.7          3.2           1.3          0.2  setosa\n",
       "3           4.6          3.1           1.5          0.2  setosa\n",
       "4           5.0          3.6           1.4          0.2  setosa"
      ]
     },
     "execution_count": 2,
     "metadata": {},
     "output_type": "execute_result"
    }
   ],
   "source": [
    "# data=pd.read_csv('iris.csv')\n",
    "data=sns.load_dataset('iris')\n",
    "data.head()"
   ]
  },
  {
   "cell_type": "code",
   "execution_count": 3,
   "metadata": {},
   "outputs": [],
   "source": [
    "data.rename(columns={'sepal_length':'SL','sepal_width':'SW','petal_length':'PL','petal_width':'PW'},inplace=True)"
   ]
  },
  {
   "cell_type": "code",
   "execution_count": 6,
   "metadata": {},
   "outputs": [
    {
     "data": {
      "text/html": [
       "<div>\n",
       "<style scoped>\n",
       "    .dataframe tbody tr th:only-of-type {\n",
       "        vertical-align: middle;\n",
       "    }\n",
       "\n",
       "    .dataframe tbody tr th {\n",
       "        vertical-align: top;\n",
       "    }\n",
       "\n",
       "    .dataframe thead th {\n",
       "        text-align: right;\n",
       "    }\n",
       "</style>\n",
       "<table border=\"1\" class=\"dataframe\">\n",
       "  <thead>\n",
       "    <tr style=\"text-align: right;\">\n",
       "      <th></th>\n",
       "      <th>SL</th>\n",
       "      <th>SW</th>\n",
       "      <th>PL</th>\n",
       "      <th>PW</th>\n",
       "      <th>species</th>\n",
       "    </tr>\n",
       "  </thead>\n",
       "  <tbody>\n",
       "    <tr>\n",
       "      <th>0</th>\n",
       "      <td>5.1</td>\n",
       "      <td>3.5</td>\n",
       "      <td>1.4</td>\n",
       "      <td>0.2</td>\n",
       "      <td>setosa</td>\n",
       "    </tr>\n",
       "    <tr>\n",
       "      <th>1</th>\n",
       "      <td>4.9</td>\n",
       "      <td>3.0</td>\n",
       "      <td>1.4</td>\n",
       "      <td>0.2</td>\n",
       "      <td>setosa</td>\n",
       "    </tr>\n",
       "    <tr>\n",
       "      <th>2</th>\n",
       "      <td>4.7</td>\n",
       "      <td>3.2</td>\n",
       "      <td>1.3</td>\n",
       "      <td>0.2</td>\n",
       "      <td>setosa</td>\n",
       "    </tr>\n",
       "    <tr>\n",
       "      <th>3</th>\n",
       "      <td>4.6</td>\n",
       "      <td>3.1</td>\n",
       "      <td>1.5</td>\n",
       "      <td>0.2</td>\n",
       "      <td>setosa</td>\n",
       "    </tr>\n",
       "    <tr>\n",
       "      <th>4</th>\n",
       "      <td>5.0</td>\n",
       "      <td>3.6</td>\n",
       "      <td>1.4</td>\n",
       "      <td>0.2</td>\n",
       "      <td>setosa</td>\n",
       "    </tr>\n",
       "    <tr>\n",
       "      <th>...</th>\n",
       "      <td>...</td>\n",
       "      <td>...</td>\n",
       "      <td>...</td>\n",
       "      <td>...</td>\n",
       "      <td>...</td>\n",
       "    </tr>\n",
       "    <tr>\n",
       "      <th>145</th>\n",
       "      <td>6.7</td>\n",
       "      <td>3.0</td>\n",
       "      <td>5.2</td>\n",
       "      <td>2.3</td>\n",
       "      <td>virginica</td>\n",
       "    </tr>\n",
       "    <tr>\n",
       "      <th>146</th>\n",
       "      <td>6.3</td>\n",
       "      <td>2.5</td>\n",
       "      <td>5.0</td>\n",
       "      <td>1.9</td>\n",
       "      <td>virginica</td>\n",
       "    </tr>\n",
       "    <tr>\n",
       "      <th>147</th>\n",
       "      <td>6.5</td>\n",
       "      <td>3.0</td>\n",
       "      <td>5.2</td>\n",
       "      <td>2.0</td>\n",
       "      <td>virginica</td>\n",
       "    </tr>\n",
       "    <tr>\n",
       "      <th>148</th>\n",
       "      <td>6.2</td>\n",
       "      <td>3.4</td>\n",
       "      <td>5.4</td>\n",
       "      <td>2.3</td>\n",
       "      <td>virginica</td>\n",
       "    </tr>\n",
       "    <tr>\n",
       "      <th>149</th>\n",
       "      <td>5.9</td>\n",
       "      <td>3.0</td>\n",
       "      <td>5.1</td>\n",
       "      <td>1.8</td>\n",
       "      <td>virginica</td>\n",
       "    </tr>\n",
       "  </tbody>\n",
       "</table>\n",
       "<p>150 rows × 5 columns</p>\n",
       "</div>"
      ],
      "text/plain": [
       "      SL   SW   PL   PW    species\n",
       "0    5.1  3.5  1.4  0.2     setosa\n",
       "1    4.9  3.0  1.4  0.2     setosa\n",
       "2    4.7  3.2  1.3  0.2     setosa\n",
       "3    4.6  3.1  1.5  0.2     setosa\n",
       "4    5.0  3.6  1.4  0.2     setosa\n",
       "..   ...  ...  ...  ...        ...\n",
       "145  6.7  3.0  5.2  2.3  virginica\n",
       "146  6.3  2.5  5.0  1.9  virginica\n",
       "147  6.5  3.0  5.2  2.0  virginica\n",
       "148  6.2  3.4  5.4  2.3  virginica\n",
       "149  5.9  3.0  5.1  1.8  virginica\n",
       "\n",
       "[150 rows x 5 columns]"
      ]
     },
     "execution_count": 6,
     "metadata": {},
     "output_type": "execute_result"
    }
   ],
   "source": [
    "iris_setosa=data[data['species']=='setosa']\n",
    "iris_versicolor=data[data['species']=='versicolor']\n",
    "iris_virginica=data[data['species']=='virginica']\n",
    "data"
   ]
  },
  {
   "cell_type": "markdown",
   "metadata": {},
   "source": [
    "# Measures of Spread\n",
    "\n",
    "<p>Measures of spread gives us an idea of how much the data is spread or varying. Some important measures of spread are :</p>\n",
    "\n",
    "<ol>\n",
    "    <li>Range</li>\n",
    "    <li>Interquartile Range (IQR)</li>\n",
    "    <li>Variance</li>\n",
    "    <li>Standard Deviation</li>\n",
    "</ol>\n"
   ]
  },
  {
   "cell_type": "markdown",
   "metadata": {},
   "source": [
    "## 1. Range\n",
    "<p>The range describes the difference between the largest and the smallest points in your data.</p>"
   ]
  },
  {
   "cell_type": "code",
   "execution_count": 7,
   "metadata": {},
   "outputs": [
    {
     "name": "stdout",
     "output_type": "stream",
     "text": [
      "The range is 0.8999999999999999\n"
     ]
    }
   ],
   "source": [
    "r=np.max(iris_setosa['PL']) - np.min(iris_setosa['PL'])\n",
    "print(\"The range is\",r)"
   ]
  },
  {
   "cell_type": "markdown",
   "metadata": {},
   "source": [
    "## 2. Percentiles\n",
    "\n",
    "A percentile is a measure used in statistics indicating the value below which a given percentage of observations in a group of observations falls. For example, the 20th percentile is the value below which 20% of the observations may be found."
   ]
  },
  {
   "cell_type": "code",
   "execution_count": 8,
   "metadata": {},
   "outputs": [
    {
     "name": "stdout",
     "output_type": "stream",
     "text": [
      "3.0\n",
      "8.2\n"
     ]
    }
   ],
   "source": [
    "mylist=[1,2,3,4,5,6,7,8,9]\n",
    "\n",
    "print(np.percentile(mylist,25))\n",
    "print(np.percentile(mylist,90))"
   ]
  },
  {
   "cell_type": "code",
   "execution_count": 9,
   "metadata": {},
   "outputs": [
    {
     "data": {
      "text/plain": [
       "1.7"
      ]
     },
     "execution_count": 9,
     "metadata": {},
     "output_type": "execute_result"
    }
   ],
   "source": [
    "np.percentile(iris_setosa['PL'],95)"
   ]
  },
  {
   "cell_type": "markdown",
   "metadata": {},
   "source": [
    "## 3. Quartiles\n",
    "\n",
    "Quartiles are the values that divide a list of numbers into quarters:\n",
    "\n",
    "Put the list of numbers in order<br>\n",
    "Then cut the list into four equal parts<br>\n",
    "The Quartiles are at the \"cuts\"<br><br>\n",
    "\n",
    "<img src=\"https://www.mathsisfun.com/data/images/quartiles-a.svg\"/>\n"
   ]
  },
  {
   "cell_type": "code",
   "execution_count": 10,
   "metadata": {},
   "outputs": [
    {
     "name": "stdout",
     "output_type": "stream",
     "text": [
      "1.4\n",
      "1.5\n",
      "1.5750000000000002\n",
      "1.9\n"
     ]
    }
   ],
   "source": [
    "print(np.percentile(iris_setosa['PL'],25))\n",
    "print(np.percentile(iris_setosa['PL'],50))\n",
    "print(np.percentile(iris_setosa['PL'],75))\n",
    "print(np.percentile(iris_setosa['PL'],100))"
   ]
  },
  {
   "cell_type": "markdown",
   "metadata": {},
   "source": [
    "## 4. Interquartile Range\n",
    "<p>The interquartile range (IQR) is a measure of statistical dispersion between upper (75th) and lower (25th) quartiles.</p>\n",
    "\n",
    "<img src=\"https://miro.medium.com/max/700/0*ezK4-_vXH7onURQN.png\">"
   ]
  },
  {
   "cell_type": "code",
   "execution_count": 11,
   "metadata": {},
   "outputs": [
    {
     "name": "stdout",
     "output_type": "stream",
     "text": [
      "The Inter Quartile Range is 0.17500000000000027\n"
     ]
    }
   ],
   "source": [
    "iqr=np.percentile(iris_setosa['PL'],75)-np.percentile(iris_setosa['PL'],25)\n",
    "print(\"The Inter Quartile Range is\",iqr)"
   ]
  },
  {
   "cell_type": "markdown",
   "metadata": {},
   "source": [
    "## 5. Mean Absoulute Deviation\n",
    "\n",
    "The Absolute Deviation from Mean, also called Mean Absolute Deviation (MAD), describe the variation in the data set, in sense that it tells the average absolute distance of each data point in the set. It is calculated as\n",
    "\n",
    "<img src=\"https://miro.medium.com/max/414/1*LAgwgmHiJaWbuwf2CIpxNQ.png\"/>\n",
    "\n",
    "<b>Example</b>\n",
    "\n",
    "2,5,1,6,7,3,11\n",
    "\n",
    "The mean is 5\n",
    "\n",
    "(|2-5| + |5-5| + |1-5| + |6-5| + |7-5| + |3-5| + |11-5|)/7\n",
    "\n",
    "3+0+4+1+2+2+6=18/7=2.5"
   ]
  },
  {
   "cell_type": "markdown",
   "metadata": {},
   "source": [
    "## 6. Variance\n",
    "\n",
    "<p>Variance measures how far are data points spread out from the mean.</p>\n",
    "\n",
    "<p>The variance is computed by finding the difference between every data point and the mean, squaring them, summing them up and then taking the average of those numbers.</p>\n",
    "\n",
    "<img src=\"https://miro.medium.com/max/411/1*0soMAm7jXAxGDLdIa-Hdog.png\"/>\n",
    "\n",
    "The squares are used during the calculation because they weight outliers more heavily than points that are near to the mean. This prevents that differences above the mean neutralize those below the mean.\n",
    "\n",
    "<b>Example</b>\n",
    "\n",
    "2,5,1,6,7,3,11\n",
    "\n",
    "The mean is 5\n",
    "\n",
    "((2-5)^2 + (5-5)^2 + (1-5)^2 + (6-5)^2 + (7-5)^2 + (3-5)^2 + (11-5)^2)/7\n",
    "\n",
    "9+0+16+1+4+4+36=70/7=10"
   ]
  },
  {
   "cell_type": "code",
   "execution_count": 12,
   "metadata": {},
   "outputs": [
    {
     "data": {
      "text/plain": [
       "0.02955600000000001"
      ]
     },
     "execution_count": 12,
     "metadata": {},
     "output_type": "execute_result"
    }
   ],
   "source": [
    "np.var(iris_setosa['PL'])"
   ]
  },
  {
   "cell_type": "markdown",
   "metadata": {},
   "source": [
    "### The problem with Variance\n",
    "\n",
    "The problem with Variance is that because of the squaring, it is not in the same unit of measurement as the original data.\n",
    "\n",
    "\n",
    "Let’s say you are dealing with a dataset that contains centimeter values. Your variance would be in squared centimeters and therefore not the best measurement. "
   ]
  },
  {
   "cell_type": "markdown",
   "metadata": {},
   "source": [
    "## 7. Variance Vs Mean Absolute Deviation\n",
    "\n",
    "Variance is easy to work with in comparision to MAD as it works on squaring(a smooth function) the deviation  in comparison to MAD where we use modulus( a non smooth function).\n",
    "\n",
    "Mathematically speaking smooth functions are easier to work with in comparison to non smooth functions\n",
    "\n",
    "<img src=\"data:image/png;base64,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\"/>"
   ]
  },
  {
   "cell_type": "markdown",
   "metadata": {},
   "source": [
    "## 8. Standard Deviation\n",
    "\n",
    "The square root of Variance is called the Standard Deviation. It is calculated as:\n",
    "\n",
    "<img src=\"https://miro.medium.com/max/412/1*R2mkgsBZ13CbN-1OMC0vMw.png\">\n",
    "\n",
    "<b>Example</b>\n",
    "\n",
    "2,5,1,6,7,3,11\n",
    "\n",
    "The mean is 5\n",
    "\n",
    "((2-5)^2 + (5-5)^2 + (1-5)^2 + (6-5)^2 + (7-5)^2 + (3-5)^2 + (11-5)^2)/7\n",
    "\n",
    "9+0+16+1+4+4+36=70/7=10\n",
    "\n",
    "SD=sqrt(10)=3.16"
   ]
  },
  {
   "cell_type": "code",
   "execution_count": 13,
   "metadata": {},
   "outputs": [
    {
     "data": {
      "text/plain": [
       "0.17191858538273286"
      ]
     },
     "execution_count": 13,
     "metadata": {},
     "output_type": "execute_result"
    }
   ],
   "source": [
    "np.std(iris_setosa['PL'])"
   ]
  },
  {
   "cell_type": "markdown",
   "metadata": {},
   "source": [
    "## 9. Median Absolute Deviation\n",
    "\n",
    "MAD is the median of all the number obtained from subtracting and calculating the absolute value of every observation with the median.\n",
    "\n",
    "<b>Example:</b>\n",
    "\n",
    "1,3,5,6,7,8,9\n",
    "\n",
    "Median is 6\n",
    "\n",
    "|1-6|,|3-6|,|5-6|,|6-6|,|7-6|,|8-6|,|9-6|\n",
    "\n",
    "5,3,1,0,1,2,3\n",
    "\n",
    "0,1,1,2,3,3,5\n",
    "\n",
    "Median Absolute Deviation is 2"
   ]
  },
  {
   "cell_type": "code",
   "execution_count": 14,
   "metadata": {},
   "outputs": [
    {
     "data": {
      "text/plain": [
       "2.965204437011204"
      ]
     },
     "execution_count": 14,
     "metadata": {},
     "output_type": "execute_result"
    }
   ],
   "source": [
    "from statsmodels import robust\n",
    "robust.mad(np.array([1,3,5,6,7,8,9]))"
   ]
  },
  {
   "cell_type": "markdown",
   "metadata": {},
   "source": [
    "## 10. Standard Deviation Vs Median Absolute Deviation\n",
    "\n",
    "Just like mean vs median, Median Absolute Deviation is free from the effects of outliers from which Standard Deviation can suffer"
   ]
  },
  {
   "cell_type": "markdown",
   "metadata": {},
   "source": [
    "## 11. Box Plots\n",
    "\n",
    "<img src=\"https://miro.medium.com/max/700/1*2c21SkzJMf3frPXPAR_gZA.png\"/>"
   ]
  },
  {
   "cell_type": "code",
   "execution_count": 16,
   "metadata": {},
   "outputs": [
    {
     "data": {
      "text/plain": [
       "<AxesSubplot:xlabel='species', ylabel='PL'>"
      ]
     },
     "execution_count": 16,
     "metadata": {},
     "output_type": "execute_result"
    },
    {
     "data": {
      "image/png": "[encoded data removed]",
      "text/plain": [
       "<Figure size 432x288 with 1 Axes>"
      ]
     },
     "metadata": {
      "needs_background": "light"
     },
     "output_type": "display_data"
    }
   ],
   "source": [
    "sns.boxplot(x='species',y='PL',data=data)"
   ]
  },
  {
   "cell_type": "markdown",
   "metadata": {},
   "source": [
    "<h1>About Me </h1>\n",
    "\n",
    "<center>\n",
    "    <img src=\"https://media-exp1.licdn.com/dms/image/C5103AQEgE5y5PWLcbA/profile-displayphoto-shrink_800_800/0/1582881994900?e=1650499200&v=beta&t=GU5A3STgP5fUbCZJ2TlFjnsx0qWJzwp3O-UfmdGzEHw\" style=\"width:80px; height:80px; border-radius:40px\" alt=\"picture\"/>\n",
    "    <h3 style=\"margin-top:5px\" ><center>Shiv Prakash</center></h3>\n",
    "    <p style=\"margin-top:-5px;\" ><center><b>Hi!</b> I'm Shiv Prakash, a guy who is truly in love with creating Ideas and developing Innovations with help of Technology. I'm looking for an opportunity to pursue a challenging career and be a part of progressive organization that gives a scope to enhance my knowledge and utilizing my skills to convert Ideas into innovations towards the growth of the organization.</center></p>\n",
    "    <div style=\"margin-top:0px\">\n",
    "        <p><center><b>Connect with me.</b></center></p>\n",
    "        <div style=\"display:inline-block;margin-right:5px\">\n",
    "            <a href=\"https://www.linkedin.com/in/iamshivprakash\" style=\"text-decoration:none; margin-right:5px\"><img src=\"https://cdn-icons-png.flaticon.com/512/174/174857.png\" style=\"width:25px; height:25px\"></a>\n",
    "        </div>\n",
    "        <div style=\"display:inline-block;margin-right:5px\">\n",
    "            <a href=\"https://www.github.com/iamshivprakash\" style=\"text-decoration:none; margin-right:5px\"><img src=\"https://cdn-icons-png.flaticon.com/512/733/733609.png\" style=\"width:25px; height:25px\"></a>\n",
    "        </div>\n",
    "        <div style=\"display:inline-block;margin-right:5px\">\n",
    "            <a href=\"https://www.instagram.com/shi_pra_\" style=\"text-decoration:none; margin-right:5px\"><img src=\"https://cdn-icons-png.flaticon.com/512/174/174855.png\" style=\"width:25px; height:25px\"></a>\n",
    "        </div>\n",
    "        <div style=\"display:inline-block;margin-right:5px\">\n",
    "            <a href=\"https://www.kaggle.com/shivprakash21\" style=\"text-decoration:none; margin-right:5px\"><img src=\"https://storage.googleapis.com/kaggle-avatars/images/default-thumb.png\" style=\"width:30px; height:30px\"></a>\n",
    "        </div>\n",
    "    </div>\n",
    "</center>\n",
    "\n",
    "<h2>Change Log</h2>\n",
    "\n",
    "<div>\n",
    "    <table>\n",
    "        <thead>\n",
    "            <tr>\n",
    "                <th>Sno</th>\n",
    "                <th>Version</th>\n",
    "                <th>Changed By</th>\n",
    "                <th>Date(DD/MM/YYYY)</th>\n",
    "                <th>Remarks</th>\n",
    "            </tr>\n",
    "        </thead>\n",
    "        <tbody>\n",
    "            <tr>\n",
    "                <td>1</td>\n",
    "                <td>1.0</td>\n",
    "                <td>Shiv Prakash</td>\n",
    "                <td>13/12/2021</td>\n",
    "                <td>Notebook Created</td>\n",
    "            </tr>\n",
    "            <tr>\n",
    "                <td>2</td>\n",
    "                <td>1.1</td>\n",
    "                <td>Shiv Prakash</td>\n",
    "                <td>20/12/2021</td>\n",
    "                <td>Adeed some of the parameters of <code>read_csv()</code> function</td>\n",
    "            </tr>\n",
    "        </tbody>\n",
    "    </table>    \n",
    "</div>\n",
    "<hr>\n",
    "<p><center>Last Modified by <b>Shiv Prakash</b> on <i>20th December 2021</i></center></p>\n"
   ]
  },
  {
   "cell_type": "code",
   "execution_count": null,
   "metadata": {},
   "outputs": [],
   "source": []
  }
 ],
 "metadata": {
  "kernelspec": {
   "display_name": "Python 3",
   "language": "python",
   "name": "python3"
  },
  "language_info": {
   "codemirror_mode": {
    "name": "ipython",
    "version": 3
   },
   "file_extension": ".py",
   "mimetype": "text/x-python",
   "name": "python",
   "nbconvert_exporter": "python",
   "pygments_lexer": "ipython3",
   "version": "3.8.8"
  }
 },
 "nbformat": 4,
 "nbformat_minor": 2
}
