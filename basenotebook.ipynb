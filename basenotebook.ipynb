{
 "cells": [
  {
   "cell_type": "markdown",
   "id": "538b8dd3",
   "metadata": {},
   "source": [
    "<h1>Exploratory Data Analysis with SQL</h1>\n",
    "\n",
    "##  Introduction\n",
    "In this Python Notebook we will:\n",
    "\n",
    "1. Ecstablish a connection with our database\n",
    "1. Load the dataset from the table in a MySQL database.\n",
    "2. Understand the dataset\n",
    "3. Execute SQL queries to answer the questions listed as Task below in this notebook\n",
    "\n",
    "## Import Libraries\n",
    "make sure you have installed all of the libraries listed below before importing them"
   ]
  },
  {
   "cell_type": "code",
   "execution_count": 28,
   "id": "6515f568",
   "metadata": {},
   "outputs": [],
   "source": [
    "import pandas as pd\n",
    "import numpy as np\n",
    "import matplotlib.pyplot as plt\n",
    "import mysql.connector\n",
    "%matplotlib inline"
   ]
  },
  {
   "cell_type": "markdown",
   "id": "f671c5d0",
   "metadata": {},
   "source": [
    "## Database Connection\n",
    "create a connection object and a cursor object"
   ]
  },
  {
   "cell_type": "code",
   "execution_count": 29,
   "id": "14f4537d",
   "metadata": {},
   "outputs": [
    {
     "name": "stdout",
     "output_type": "stream",
     "text": [
      "Connected to Database\n"
     ]
    }
   ],
   "source": [
    "try:\n",
    "    conn = mysql.connector.connect(\n",
    "    host='localhost',\n",
    "    user='root',\n",
    "    password='',\n",
    "    database='flaskcrud'\n",
    "    )\n",
    "    if conn.is_connected():\n",
    "        mycur = conn.cursor()\n",
    "        print(\"Connected to Database\")\n",
    "except:\n",
    "    print(\"Some error occured.\")"
   ]
  },
  {
   "cell_type": "markdown",
   "id": "849f3f22",
   "metadata": {},
   "source": [
    "## Ways to Run SQL Queries\n",
    "\n",
    "1. Using Cursor Object\n",
    "2. Using pandas.read_sql_query\n",
    "\n",
    "### SELECT query using cursor object\n",
    "To implement the query with cursor object we run `cursor.execute(query)` which gives cursor object in return and with help of cursor we store the result by running `cursor.fetchall()` or `cursor.fetch()` which ever is required."
   ]
  },
  {
   "cell_type": "code",
   "execution_count": 32,
   "id": "1d92ab0a",
   "metadata": {},
   "outputs": [
    {
     "name": "stdout",
     "output_type": "stream",
     "text": [
      "<class 'list'>\n",
      "<class 'mysql.connector.cursor_cext.CMySQLCursor'>\n",
      "[(2, 'Mukesh Gupta', 'mukesh@gmail.com', 89665436427, '12th'), (4, 'Ranjan Yadav', 'yadav@gmail.com', 584379839390, 'B.Tech'), (5, 'Ankita Sen', 'ankita@gmail.com', 5845793463579634, 'B.com'), (6, 'Vivek Thapar', 'thapar@gmail.com', 87857247584, 'B.com'), (10, 'vimal Anand', 'vimal@gmail.com', 63372818378, 'B.Tech'), (12, 'ramesh kalyan', 'kalyan@gmail.com', 5466778789, 'M.Tech')]\n"
     ]
    }
   ],
   "source": [
    "mycur.execute('select * from users')\n",
    "users = mycur.fetchall()\n",
    "print(type(mycur))\n",
    "print(users)"
   ]
  },
  {
   "cell_type": "markdown",
   "id": "6479a548",
   "metadata": {},
   "source": [
    "### SELECT query using `pandas.read_sql_query()`\n",
    "This returns pandas DataFrame"
   ]
  },
  {
   "cell_type": "code",
   "execution_count": 31,
   "id": "85ada472",
   "metadata": {},
   "outputs": [
    {
     "name": "stdout",
     "output_type": "stream",
     "text": [
      "<class 'pandas.core.frame.DataFrame'>\n",
      "   sno           name             email             phone  degree\n",
      "0    2   Mukesh Gupta  mukesh@gmail.com       89665436427    12th\n",
      "1    4   Ranjan Yadav   yadav@gmail.com      584379839390  B.Tech\n",
      "2    5     Ankita Sen  ankita@gmail.com  5845793463579634   B.com\n",
      "3    6   Vivek Thapar  thapar@gmail.com       87857247584   B.com\n",
      "4   10    vimal Anand   vimal@gmail.com       63372818378  B.Tech\n",
      "5   12  ramesh kalyan  kalyan@gmail.com        5466778789  M.Tech\n"
     ]
    }
   ],
   "source": [
    "users = pd.read_sql_query('select * from users',conn)\n",
    "print(type(users))\n",
    "print(users)"
   ]
  },
  {
   "cell_type": "markdown",
   "id": "9925b2b2",
   "metadata": {},
   "source": [
    "# About Me\n",
    "\n",
    "<center>\n",
    "    <img src=\"https://media-exp1.licdn.com/dms/image/C5103AQEgE5y5PWLcbA/profile-displayphoto-shrink_800_800/0/1582881994900?e=1650499200&v=beta&t=GU5A3STgP5fUbCZJ2TlFjnsx0qWJzwp3O-UfmdGzEHw\" style=\"width:80px; height:80px; border-radius:40px\" alt=\"picture\"/>\n",
    "    <h3 style=\"margin-top:5px\" ><center>Shiv Prakash</center></h3>\n",
    "    <p style=\"margin-top:-5px;\" ><center><b>Hi!</b> I'm Shiv Prakash, a guy who is truly in love with creating Ideas and developing Innovations with help of Technology. I'm looking for an opportunity to pursue a challenging career and be a part of progressive organization that gives a scope to enhance my knowledge and utilizing my skills to convert Ideas into innovations towards the growth of the organization.</center></p>\n",
    "    <div style=\"margin-top:0px\">\n",
    "        <p><center><b>Connect with me.</b></center></p>\n",
    "        <div style=\"display:inline-block;margin-right:5px\">\n",
    "            <a href=\"https://www.linkedin.com/in/iamshivprakash\" style=\"text-decoration:none; margin-right:5px\"><img src=\"https://cdn-icons-png.flaticon.com/512/174/174857.png\" style=\"width:25px; height:25px\"></a>\n",
    "        </div>\n",
    "        <div style=\"display:inline-block;margin-right:5px\">\n",
    "            <a href=\"https://www.github.com/iamshivprakash\" style=\"text-decoration:none; margin-right:5px\"><img src=\"https://cdn-icons-png.flaticon.com/512/733/733609.png\" style=\"width:25px; height:25px\"></a>\n",
    "        </div>\n",
    "        <div style=\"display:inline-block;margin-right:5px\">\n",
    "            <a href=\"https://www.instagram.com/shi_pra_\" style=\"text-decoration:none; margin-right:5px\"><img src=\"https://cdn-icons-png.flaticon.com/512/174/174855.png\" style=\"width:25px; height:25px\"></a>\n",
    "        </div>\n",
    "        <div style=\"display:inline-block;margin-right:5px\">\n",
    "            <a href=\"https://www.kaggle.com/shivprakash21\" style=\"text-decoration:none; margin-right:5px\"><img src=\"https://storage.googleapis.com/kaggle-avatars/images/default-thumb.png\" style=\"width:30px; height:30px\"></a>\n",
    "        </div>\n",
    "    </div>\n",
    "</center>\n",
    "\n",
    "## Change Log\n",
    "\n",
    "<div>\n",
    "    <table>\n",
    "        <thead>\n",
    "            <tr>\n",
    "                <th>Sno</th>\n",
    "                <th>Version</th>\n",
    "                <th>Changed By</th>\n",
    "                <th>Date(DD/MM/YYYY)</th>\n",
    "                <th>Remarks</th>\n",
    "            </tr>\n",
    "        </thead>\n",
    "        <tbody>\n",
    "            <tr>\n",
    "                <td>1</td>\n",
    "                <td>1.0</td>\n",
    "                <td>Shiv Prakash</td>\n",
    "                <td>12/12/2021</td>\n",
    "                <td>Notebook Created</td>\n",
    "            </tr>\n",
    "            <tr>\n",
    "                <td>2</td>\n",
    "                <td>1.1</td>\n",
    "                <td>Shiv Prakash</td>\n",
    "                <td>19/12/2021</td>\n",
    "                <td>Made Connection with DB and ran some quries</td>\n",
    "            </tr>\n",
    "        </tbody>\n",
    "    </table>    \n",
    "</div>\n",
    "<hr>\n",
    "<p><center>Last Modified by <b>Shiv Prakash</b> on <i>19th December 2021</i></center></p>\n"
   ]
  },
  {
   "cell_type": "code",
   "execution_count": null,
   "id": "ddb63fb8",
   "metadata": {},
   "outputs": [],
   "source": []
  }
 ],
 "metadata": {
  "kernelspec": {
   "display_name": "Python 3",
   "language": "python",
   "name": "python3"
  },
  "language_info": {
   "codemirror_mode": {
    "name": "ipython",
    "version": 3
   },
   "file_extension": ".py",
   "mimetype": "text/x-python",
   "name": "python",
   "nbconvert_exporter": "python",
   "pygments_lexer": "ipython3",
   "version": "3.8.8"
  }
 },
 "nbformat": 4,
 "nbformat_minor": 5
}
